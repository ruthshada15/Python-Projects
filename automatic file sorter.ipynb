{
 "cells": [
  {
   "cell_type": "markdown",
   "id": "20c39398",
   "metadata": {},
   "source": [
    "# Automatic File Sorter in File Explorer Super Simple"
   ]
  },
  {
   "cell_type": "code",
   "execution_count": 76,
   "id": "8644ece3",
   "metadata": {},
   "outputs": [],
   "source": [
    "import os, shutil"
   ]
  },
  {
   "cell_type": "code",
   "execution_count": 77,
   "id": "17a53f5c",
   "metadata": {},
   "outputs": [
    {
     "name": "stdout",
     "output_type": "stream",
     "text": [
      "C:/Users/SHADA'S PC/Desktop/\n"
     ]
    }
   ],
   "source": [
    "path = r\"C:/Users/SHADA'S PC/Desktop/\"\n",
    "\n",
    "print(path)"
   ]
  },
  {
   "cell_type": "code",
   "execution_count": 78,
   "id": "37123596",
   "metadata": {},
   "outputs": [],
   "source": [
    "file_name = os.listdir(path)"
   ]
  },
  {
   "cell_type": "code",
   "execution_count": 79,
   "id": "80991d1c",
   "metadata": {},
   "outputs": [],
   "source": [
    "folder_names = ['Images files', 'Excel files', 'PDF files', 'Word files', 'Apps files']\n",
    "\n",
    "for loop in range(len(folder_names)) :\n",
    "    if not os.path.exists(path + folder_names[loop]):\n",
    "        #print(path + folder_names[loop])\n",
    "        os.makedirs(path +folder_names[loop])\n",
    "        \n",
    "for file in file_name :\n",
    "    if \".png\" in file and not os.path.exists(path + \"Images files/\" + file):\n",
    "        shutil.move(path + file, path + \"Images files/\" + file)\n",
    "    elif \".jpg\" in file and not os.path.exists(path + \"Images files/\" + file):\n",
    "        shutil.move(path + file, path + \"Images files/\" + file)\n",
    "    elif \".jpeg\" in file and not os.path.exists(path + \"Images files/\" + file):\n",
    "        shutil.move(path + file, path + \"Images files/\" + file)\n",
    "    elif \".xlsx\" in file and not os.path.exists(path + \"Excel files/\" + file):\n",
    "        shutil.move(path + file, path + \"Excel files/\" + file)\n",
    "    elif \".xls\" in file and not os.path.exists(path + \"Excel files/\" + file):\n",
    "        shutil.move(path + file, path + \"Excel files/\" + file)\n",
    "    elif \".csv\" in file and not os.path.exists(path + \"Excel files/\" + file):\n",
    "        shutil.move(path + file, path + \"Excel files/\" + file)\n",
    "    elif \".pdf\" in file and not os.path.exists(path + \"PDF files/\" + file):\n",
    "        shutil.move(path + file, path + \"PDF files/\" + file)\n",
    "    elif \".docx\" in file and not os.path.exists(path + \"Word files/\" + file):\n",
    "        shutil.move(path + file, path + \"Word files/\" + file)\n",
    "    elif \".doc\" in file and not os.path.exists(path + \"Word files/\" + file):\n",
    "        shutil.move(path + file, path + \"Word files/\" + file)\n",
    "    elif \".dotx\" in file and not os.path.exists(path + \"Word files/\" + file):\n",
    "        shutil.move(path + file, path + \"Word files/\" + file)\n",
    "    elif \".rtf\" in file and not os.path.exists(path + \"Word files/\" + file):\n",
    "        shutil.move(path + file, path + \"Word files/\" + file)\n",
    "    elif \".exe\" in file and not os.path.exists(path + \"Apps files/\" + file):\n",
    "        shutil.move(path + file, path + \"Apps files/\" + file)\n",
    "    elif \".msi\" in file and not os.path.exists(path + \"Apps files/\" + file):\n",
    "        shutil.move(path + file, path + \"Apps files/\" + file)\n"
   ]
  },
  {
   "cell_type": "code",
   "execution_count": null,
   "id": "3c315db1",
   "metadata": {},
   "outputs": [],
   "source": []
  },
  {
   "cell_type": "code",
   "execution_count": null,
   "id": "ae956bce",
   "metadata": {},
   "outputs": [],
   "source": []
  },
  {
   "cell_type": "code",
   "execution_count": null,
   "id": "dafdecb0",
   "metadata": {},
   "outputs": [],
   "source": []
  },
  {
   "cell_type": "code",
   "execution_count": null,
   "id": "203fd40a",
   "metadata": {},
   "outputs": [],
   "source": []
  },
  {
   "cell_type": "code",
   "execution_count": null,
   "id": "c919d393",
   "metadata": {},
   "outputs": [],
   "source": []
  },
  {
   "cell_type": "code",
   "execution_count": null,
   "id": "9dcfbdb0",
   "metadata": {},
   "outputs": [],
   "source": []
  },
  {
   "cell_type": "code",
   "execution_count": null,
   "id": "8ed9a9c9",
   "metadata": {},
   "outputs": [],
   "source": []
  },
  {
   "cell_type": "code",
   "execution_count": null,
   "id": "484dcd4d",
   "metadata": {},
   "outputs": [],
   "source": []
  },
  {
   "cell_type": "code",
   "execution_count": null,
   "id": "aa8260bf",
   "metadata": {},
   "outputs": [],
   "source": []
  },
  {
   "cell_type": "code",
   "execution_count": null,
   "id": "5db4ffd4",
   "metadata": {},
   "outputs": [],
   "source": []
  }
 ],
 "metadata": {
  "kernelspec": {
   "display_name": "Python 3 (ipykernel)",
   "language": "python",
   "name": "python3"
  },
  "language_info": {
   "codemirror_mode": {
    "name": "ipython",
    "version": 3
   },
   "file_extension": ".py",
   "mimetype": "text/x-python",
   "name": "python",
   "nbconvert_exporter": "python",
   "pygments_lexer": "ipython3",
   "version": "3.10.9"
  }
 },
 "nbformat": 4,
 "nbformat_minor": 5
}
