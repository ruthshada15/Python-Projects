{
 "cells": [
  {
   "cell_type": "markdown",
   "id": "044aa953",
   "metadata": {},
   "source": [
    "# Super Simple BMI Calculator"
   ]
  },
  {
   "cell_type": "code",
   "execution_count": 31,
   "id": "0f14187f",
   "metadata": {},
   "outputs": [],
   "source": [
    "\n",
    "def bmi_feedback (bmi, name):\n",
    "    print(bmi)\n",
    "    if (bmi > 0) :\n",
    "        if (bmi < 18.5) :\n",
    "            print (name +\", you are underweight.\")\n",
    "        elif (bmi <= 24.9) :\n",
    "            print (name +\", you are normal weight.\")\n",
    "        elif (bmi <= 29.9) :\n",
    "            print (name +\", you are overweight.\")\n",
    "        elif (bmi <= 34.9) :\n",
    "            print (name +\", you are obese.\")\n",
    "        elif (bmi <= 39.9) :\n",
    "            print (name +\", you are severely obese.\")\n",
    "        elif (bmi >= 40) :\n",
    "            print (name +\", you are morbidly obese\")\n",
    "        else:\n",
    "            print (name +\", you have entered incorrect inputs\")\n",
    "    else :\n",
    "        print(\"Enter valid inputs\")\n",
    "        "
   ]
  },
  {
   "cell_type": "code",
   "execution_count": 32,
   "id": "2730c6be",
   "metadata": {},
   "outputs": [
    {
     "name": "stdout",
     "output_type": "stream",
     "text": [
      "Enter your name please : Shada\n",
      "Enter your weight in Kilograms : 71\n",
      "Enter your height in Centimeters : 169\n",
      "24.859073561850078\n",
      "Shada, you are normal weight.\n"
     ]
    }
   ],
   "source": [
    "name = input('Enter your name please : ')\n",
    "weight_kg = int(input('Enter your weight in Kilograms : '))\n",
    "height_cm = int(input('Enter your height in Centimeters : '))\n",
    "\n",
    "bmi_metrics = weight_kg / (height_cm/100)**2\n",
    "\n",
    "bmi_feedback(bmi_metrics, name)"
   ]
  },
  {
   "cell_type": "code",
   "execution_count": 33,
   "id": "40d51e8a",
   "metadata": {},
   "outputs": [
    {
     "name": "stdout",
     "output_type": "stream",
     "text": [
      "Enter your name please : Shada\n",
      "Enter your weight in pounds : 156.6\n",
      "Enter your height in inches : 66.6\n",
      "24.819819819819823\n",
      "Shada, you are normal weight.\n"
     ]
    }
   ],
   "source": [
    "name = input('Enter your name please : ')\n",
    "weight_pounds = float(input('Enter your weight in pounds : '))\n",
    "height_in = float(input('Enter your height in inches : '))\n",
    "\n",
    "bmi_imperial = (weight_pounds * 703) / (height_in * height_in)\n",
    "\n",
    "bmi_feedback(bmi_imperial, name)"
   ]
  },
  {
   "cell_type": "code",
   "execution_count": null,
   "id": "cc958b67",
   "metadata": {},
   "outputs": [],
   "source": []
  },
  {
   "cell_type": "code",
   "execution_count": null,
   "id": "d22a251e",
   "metadata": {},
   "outputs": [],
   "source": []
  },
  {
   "cell_type": "code",
   "execution_count": null,
   "id": "2b93d4da",
   "metadata": {},
   "outputs": [],
   "source": []
  },
  {
   "cell_type": "code",
   "execution_count": null,
   "id": "4d560fa0",
   "metadata": {},
   "outputs": [],
   "source": []
  },
  {
   "cell_type": "code",
   "execution_count": null,
   "id": "471363e5",
   "metadata": {},
   "outputs": [],
   "source": []
  },
  {
   "cell_type": "code",
   "execution_count": null,
   "id": "ac8314f6",
   "metadata": {},
   "outputs": [],
   "source": []
  }
 ],
 "metadata": {
  "kernelspec": {
   "display_name": "Python 3 (ipykernel)",
   "language": "python",
   "name": "python3"
  },
  "language_info": {
   "codemirror_mode": {
    "name": "ipython",
    "version": 3
   },
   "file_extension": ".py",
   "mimetype": "text/x-python",
   "name": "python",
   "nbconvert_exporter": "python",
   "pygments_lexer": "ipython3",
   "version": "3.10.9"
  }
 },
 "nbformat": 4,
 "nbformat_minor": 5
}
